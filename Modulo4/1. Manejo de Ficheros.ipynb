{
 "cells": [
  {
   "cell_type": "markdown",
   "metadata": {},
   "source": [
    "# Manejo de Ficheros en Python\n",
    "------------------------"
   ]
  },
  {
   "cell_type": "markdown",
   "metadata": {},
   "source": [
    "Hasta ahora, hemos aprendido a escribir programas y comunicar nuestras intenciones a la CPU mediante condicionales, funciones e iteraciones. Hemos aprendido cómo crear y utilizar estructuras de datos como listas y cadenas en la memoria principal. La CPU y la memoria son donde nuestro software funciona y se ejecuta. Es donde ocurre todo el \"pensamiento\".\n",
    "\n",
    "Pero lo que ocurre **una vez que nuestro programa finaliza, todo lo almacenado en la CPU o en la memoria principal se borra**. Hasta ahora, nuestros programas sólo han producido resultados temporales.\n",
    "\n",
    "**Mediante el manejo de archivos aprenderemos a almacenar datos y recuperar información de archivos de texto básicos.**\n"
   ]
  },
  {
   "cell_type": "markdown",
   "metadata": {},
   "source": [
    "<img src='https://snakebear.science/_images/arch1.svg'>"
   ]
  },
  {
   "cell_type": "markdown",
   "metadata": {},
   "source": [
    "## 1. Objeto File\n",
    "------------------------------"
   ]
  },
  {
   "cell_type": "markdown",
   "metadata": {},
   "source": [
    "<img src='https://snakebear.science/_images/file_object.svg'>"
   ]
  },
  {
   "cell_type": "markdown",
   "metadata": {},
   "source": [
    "Al igual que sucede con otras variables, manipular una de ellas como un objeto File, es posible, cuando a ésta, se le asigna como valor un archivo. \n",
    "Para asignar a una variable un valor de tipo file, solo es necesario recurrir a la función integrada open(), la cuál está destinada a la apertura de un archivo.\n",
    "\n",
    "- La función integrada open(), recibe dos parámetros: – El primero de ellos, es la ruta hacia el archivo que se desea abrir \n",
    "\n",
    "- Y el segundo, el modo en el cual abrirlo"
   ]
  },
  {
   "cell_type": "code",
   "execution_count": null,
   "metadata": {},
   "outputs": [],
   "source": [
    "# Forma 1 de apertura a partir del método with \n",
    "#consideraciones generales para manejo de archivos : donde se ejecuta el programa , a donde apunta lo que vas llamar o abrir \n",
    "\n",
    "ruta_archivo = './src/dog_breeds.txt' #donde se almacena # ruta relativa \n",
    "# /workspaces/ProgramacionPython202506/Modulo4/src/dog_breeds.txt\n",
    "# en windows al usar la ruta absoltua agregar un /  => C://Users//Carpeta01//Carpeta02//archivo.txt \n",
    "with open(ruta_archivo,mode='r') as file:\n",
    "    # capturo la información del archivo\n",
    "    data = file.read()\n",
    "    pass # Archivo se cierra de forma automática\n",
    "\n",
    "# muestro la data\n",
    "print(data)\n",
    "#print(\"hello\",'\\n',\"word\")"
   ]
  },
  {
   "cell_type": "code",
   "execution_count": null,
   "metadata": {},
   "outputs": [],
   "source": [
    "# Forma 2 de apertura\n",
    "ruta_archivo = '/workspaces/ProgramacionPython202506/Modulo4/src/dog_breeds.txt'\n",
    "f = open(ruta_archivo) # por defecto el modo de abrir el archivo es \"lectura\"\n",
    "data = f.read() # readlines -> permite leer todas las líneas del archivo, en forma de lista\n",
    "f.close() # necesariamente debemos cerrar nuestro archivo\n",
    "\n",
    "print(data)"
   ]
  },
  {
   "cell_type": "code",
   "execution_count": null,
   "metadata": {},
   "outputs": [],
   "source": [
    "# Valido si archivo se encuentra efectivamente cerrado\n",
    "f.closed"
   ]
  },
  {
   "cell_type": "code",
   "execution_count": null,
   "metadata": {},
   "outputs": [],
   "source": [
    "\"\"\"\n",
    "recordemos que nuestra data en un archivo tendrá saltos de linea y posiblemente tabulaciones.\n",
    "Estos se representan de la siguiente manera\n",
    "# \\t -> tab\n",
    "# \\n -> salto de linea\n",
    "\"\"\"\n",
    "\n",
    "data"
   ]
  },
  {
   "cell_type": "markdown",
   "metadata": {},
   "source": [
    "### 1.1 Modos de Apertura"
   ]
  },
  {
   "cell_type": "markdown",
   "metadata": {},
   "source": [
    "Por defecto un archivo se apertura en modo **lectura (r)** pero en la práctica existen muchos más modos los cuales nos permitiran escribir (w) o modificar un archivo ya existente"
   ]
  },
  {
   "cell_type": "markdown",
   "metadata": {},
   "source": [
    "<img src='./img/modo_apertura.PNG'>"
   ]
  },
  {
   "cell_type": "markdown",
   "metadata": {},
   "source": [
    "<img src='./img/modo_apertura2.PNG'>"
   ]
  },
  {
   "cell_type": "markdown",
   "metadata": {},
   "source": [
    "### 1.2 Métodos de Archivos"
   ]
  },
  {
   "cell_type": "markdown",
   "metadata": {},
   "source": [
    "El objeto file, entre sus métodos más frecuentes, dispone de los siguientes"
   ]
  },
  {
   "cell_type": "markdown",
   "metadata": {},
   "source": [
    "<img src='./img/metodos_files.PNG'>"
   ]
  },
  {
   "cell_type": "markdown",
   "metadata": {
    "tags": []
   },
   "source": [
    "## 2. Lectura de Ficheros\n",
    "\n",
    "El objetivo de lectura de un archivo será el poder emplear los datos recuperados para poder realizar algún tipo de procesamiento a nuestra información."
   ]
  },
  {
   "cell_type": "code",
   "execution_count": null,
   "metadata": {},
   "outputs": [],
   "source": [
    "\"\"\"Ejemplo 1\n",
    "-------------------\n",
    "Recuperar los datos del archivo 'dog_breeds.txt' y pasar a minúscula todo el texto contenido en el archivo\n",
    "\"\"\"\n",
    "#  read -> Método que permite la lectura de todo el archivo como str\n",
    "with open('./src/dog_breeds.txt') as f:\n",
    "    data = f.read()\n",
    "\n",
    "# hago transformación de la data en memoria\n",
    "data_minuscula = data.lower()\n",
    "print(data_minuscula)\n"
   ]
  },
  {
   "cell_type": "code",
   "execution_count": null,
   "metadata": {},
   "outputs": [],
   "source": [
    "\"\"\"\n",
    "Ejemplo 2\n",
    "-----------------\n",
    "Empleando el archivo 'dog_breeds.txt', agregar delante de cada linea del archivo la palabra 'Dog race:' \n",
    "\"\"\"\n",
    "\n",
    "with open('./src/dog_breeds.txt') as f:\n",
    "    lineas_file = f.readlines() # read_lines -> retorna un listado \n",
    "    \n",
    "lineas_file"
   ]
  },
  {
   "cell_type": "code",
   "execution_count": null,
   "metadata": {},
   "outputs": [],
   "source": [
    "# agregando palabra a cada linea del listado\n",
    "new_list = []\n",
    "for line in lineas_file:\n",
    "    new_line = f'Dog race: {line}'\n",
    "    new_list.append(new_line)\n",
    "\n",
    "new_list"
   ]
  },
  {
   "cell_type": "code",
   "execution_count": null,
   "metadata": {},
   "outputs": [],
   "source": [
    "with open('./src/dog_breeds_v2.txt', \"w\") as fichero:\n",
    "    fichero.writelines(new_list)"
   ]
  },
  {
   "cell_type": "markdown",
   "metadata": {},
   "source": [
    "También se puede leer un fichero utilizando la instrucción estándar with de la siguiente forma:"
   ]
  },
  {
   "cell_type": "code",
   "execution_count": null,
   "metadata": {},
   "outputs": [],
   "source": [
    "# lectura y procesamiento\n",
    "\n",
    "with open('./src/dog_breeds.txt', \"r\") as fichero:\n",
    "    new_list = []\n",
    "    for linea in fichero:\n",
    "        new_line = f'Dog race: {linea}'\n",
    "        # deberiamos escribir a un nuevo fichero\n",
    "        new_list.append(new_line)\n",
    "\n",
    "new_list"
   ]
  },
  {
   "cell_type": "markdown",
   "metadata": {},
   "source": [
    "## 3. Escritura de Ficheros\n",
    "\n",
    "El objetivo de este punto será el almacenar nuestros datos generados en algún archivo"
   ]
  },
  {
   "cell_type": "code",
   "execution_count": null,
   "metadata": {},
   "outputs": [],
   "source": [
    "# 1. Escritura de un fichero\n",
    "texto = \"Una línea \\tcon texto\\nOtra línea con texto v2\"\n",
    "\n",
    "# Ruta donde crearemos el fichero, w indica escritura (puntero al principio)\n",
    "# De existir el archivo, este será eliminado y creado uno nuevo \n",
    "with open('./src/escritura.txt',mode='w') as f:\n",
    "    # Escribimos el texto\n",
    "    f.write(texto)"
   ]
  },
  {
   "cell_type": "code",
   "execution_count": null,
   "metadata": {},
   "outputs": [],
   "source": [
    "# lectura en una linea\n",
    "data = open('./src/escritura.txt','r').read()\n",
    "print(data)"
   ]
  },
  {
   "cell_type": "code",
   "execution_count": null,
   "metadata": {},
   "outputs": [],
   "source": [
    "# 2. Escritura de una lista\n",
    "\n",
    "# debemos colocar saltos de linea para que cada elemento de nuestra lista \n",
    "# sea interpretada como una nueva linea de texto\n",
    "lista_escribir = [\"Una línea \\tcon texto\\n\" # linea1\n",
    "                  ,\"Otra línea con texto\\n\"\n",
    "                  , 'contenido a añadir'\n",
    "                  ]"
   ]
  },
  {
   "cell_type": "code",
   "execution_count": null,
   "metadata": {},
   "outputs": [],
   "source": [
    "with open('./src/nuevo_fichero.txt','w') as f:\n",
    "    # Escribimos el texto\n",
    "    f.writelines(lista_escribir)"
   ]
  },
  {
   "cell_type": "markdown",
   "metadata": {},
   "source": [
    "Este modo nos permite añadir datos al final de un fichero:"
   ]
  },
  {
   "cell_type": "code",
   "execution_count": null,
   "metadata": {},
   "outputs": [],
   "source": [
    "# Ruta donde leeremos el fichero, a indica extensión (puntero al final)\n",
    "with open('./src/nuevo_fichero.txt','a') as f:\n",
    "    for i in range(15):\n",
    "        f.write('\\nmás lineas')"
   ]
  },
  {
   "cell_type": "markdown",
   "metadata": {},
   "source": [
    "## 4. Procesamiento con Ficheros\n",
    "\n",
    "\n",
    "En este apartado realizaremos un ejemplo de procesamiento de datos con ficheros"
   ]
  },
  {
   "cell_type": "markdown",
   "metadata": {},
   "source": [
    "**Ejercicio**\n",
    "\n",
    "\n",
    "Tienes un fichero <code>ventas.csv</code> que contiene datos de ventas en formato CSV.  Cada línea del fichero tiene la siguiente estructura: <code>fecha,producto,cantidad,precio_unitario</code>. Debes leer el fichero, procesar los datos y calcular el total de ventas por producto. Finalmente, debes escribir los resultados en un nuevo fichero <code>total_ventas.txt</code>."
   ]
  },
  {
   "cell_type": "code",
   "execution_count": null,
   "metadata": {},
   "outputs": [],
   "source": [
    "# formato csv\n",
    "# valores separados por comas\n",
    "# Columna1,Columna2,Columna3\n",
    "\n",
    "\n",
    "\n"
   ]
  },
  {
   "cell_type": "markdown",
   "metadata": {},
   "source": [
    "## 5. <a href='https://docs.python.org/2.4/lib/standard-encodings.html'>Encoding</a>"
   ]
  },
  {
   "cell_type": "markdown",
   "metadata": {},
   "source": [
    "**encoding** es el nombre de la codificación utilizada para decodificar o codificar el archivo. Esto solo debe usarse en modo texto. La codificación predeterminada es dependiente de la plataforma, pero cualquier codificación compatible con Python se puede utilizar."
   ]
  },
  {
   "cell_type": "markdown",
   "metadata": {},
   "source": [
    "Más conocidos:\n",
    "\n",
    "- utf-8\n",
    "- latin1\n",
    "- ascii\n"
   ]
  },
  {
   "cell_type": "markdown",
   "metadata": {},
   "source": [
    "#### Lectura sin encoding con texto español\n",
    "\n",
    "\n"
   ]
  },
  {
   "cell_type": "code",
   "execution_count": null,
   "metadata": {},
   "outputs": [],
   "source": [
    "with open('./src/fichero_esp.txt','r') as f:\n",
    "    texto = f.read()\n",
    "\n",
    "print(texto)"
   ]
  },
  {
   "cell_type": "markdown",
   "metadata": {},
   "source": [
    "#### Lectura con encoding utf-8"
   ]
  },
  {
   "cell_type": "code",
   "execution_count": null,
   "metadata": {},
   "outputs": [],
   "source": [
    "with open('./src/fichero_esp.txt',encoding='utf-8') as f:\n",
    "    texto = f.read()\n",
    "    print(texto)"
   ]
  },
  {
   "cell_type": "markdown",
   "metadata": {},
   "source": [
    "# Links Referencia\n",
    "----------------------\n",
    "\n",
    "- [Lectura y Escritura de Ficheros en Python -Ingles](https://realpython.com/read-write-files-python/)\n",
    "- [Trabajando con Ficheros - Ingles](https://snakebear.science/05-StringsListsAndFiles/Files.html)\n",
    "- [Trabajando con archivos en Python -Esp](https://www.freecodecamp.org/espanol/news/python-abre-archivo-como-leer-un-archivo-de-texto-linea-por-linea/#:~:text=Si%20tu%20archivo%20de%20texto,en%20la%20funci%C3%B3n%20open()%20.&text=Si%20tu%20archivo%20de%20texto%20est%C3%A1%20en%20una%20carpeta%20diferente,correcta%20del%20archivo%20de%20texto.)\n",
    "- [Libreria CSV](https://realpython.com/python-csv/)\n"
   ]
  },
  {
   "cell_type": "markdown",
   "metadata": {},
   "source": [
    "# EJERCICIOS\n",
    "----------------------------"
   ]
  },
  {
   "cell_type": "markdown",
   "metadata": {},
   "source": [
    "1. En este ejercicio deberás crear un script llamado <code>personas.py</code> que lea los datos de un fichero de texto <code>personas.txt</code>, que transforme cada fila en un diccionario y lo añada a una lista llamada personas. Luego rocorre las personas de la lista y para cada una muestra de forma amigable todos sus campos.\n"
   ]
  },
  {
   "cell_type": "code",
   "execution_count": null,
   "metadata": {},
   "outputs": [],
   "source": []
  },
  {
   "cell_type": "markdown",
   "metadata": {},
   "source": [
    "2. Tienes un fichero <code>temperaturas.txt</code> que contiene registros de temperaturas diarias en formato CSV. Cada línea del fichero tiene la siguiente estructura: <code>fecha,temperatura</code>. Debes leer el fichero, calcular la temperatura promedio, la temperatura máxima y la mínima. Finalmente, debes escribir los resultados en un nuevo fichero <code>resumen_temperaturas.txt</code>."
   ]
  },
  {
   "cell_type": "code",
   "execution_count": null,
   "metadata": {},
   "outputs": [],
   "source": []
  }
 ],
 "metadata": {
  "kernelspec": {
   "display_name": ".venv",
   "language": "python",
   "name": "python3"
  },
  "language_info": {
   "codemirror_mode": {
    "name": "ipython",
    "version": 3
   },
   "file_extension": ".py",
   "mimetype": "text/x-python",
   "name": "python",
   "nbconvert_exporter": "python",
   "pygments_lexer": "ipython3",
   "version": "3.11.2"
  }
 },
 "nbformat": 4,
 "nbformat_minor": 4
}
